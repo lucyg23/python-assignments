{
 "cells": [
  {
   "cell_type": "markdown",
   "metadata": {
    "tags": []
   },
   "source": [
    "# Assignment 4: Python Functions\n",
    "\n",
    "\n",
    "```{admonition} Learning Goals\n",
    ":class: tip\n",
    "\n",
    "This assignment will verify that you have the following skills:\n",
    "- Define functions\n",
    "- Use optional keyword arguments in functions\n",
    "```"
   ]
  },
  {
   "cell_type": "markdown",
   "metadata": {},
   "source": [
    "## Part I: Practice with Functions\n",
    "\n",
    "### 1. Write a function to convert temperature from kelvin to celsius and celsius to kelvin"
   ]
  },
  {
   "cell_type": "code",
   "execution_count": 23,
   "metadata": {},
   "outputs": [
    {
     "name": "stdout",
     "output_type": "stream",
     "text": [
      "15.00 degrees celsius is 288.15 degrees kelvin\n"
     ]
    }
   ],
   "source": [
    "#define a function\n",
    "def temp_conversion(c):\n",
    "    k = c + 273.15\n",
    "    return k\n",
    "celsius = 15\n",
    "kelvin = temp_conversion(celsius)\n",
    "print ('%0.2f degrees celsius is %0.2f degrees kelvin' %(celsius,kelvin))"
   ]
  },
  {
   "cell_type": "markdown",
   "metadata": {
    "tags": []
   },
   "source": [
    "### 2. Write a function to convert temperature to fahrenheit\n",
    "\n",
    "Include an optional keyword argument to specify whether the input is in  celcius or kelvin.\n",
    "Call your previously defined functions if necessary."
   ]
  },
  {
   "cell_type": "code",
   "execution_count": 27,
   "metadata": {},
   "outputs": [
    {
     "name": "stdout",
     "output_type": "stream",
     "text": [
      "Converting 35C to 95.0F.\n"
     ]
    }
   ],
   "source": [
    "def convert_temp_to_F(t, unit):\n",
    "        if(unit=='C'):\n",
    "            tmpf = t*9/5+32\n",
    "            print ('Converting '+str(t)+'C to '+str(tmpf)+'F.')\n",
    "        elif(unit=='K'):\n",
    "            tmpf = ((t-32)*(5/9))+273.15\n",
    "            print('Converting '+str(tC)+'C to '+str(tmpf)+'K.')\n",
    "        else:\n",
    "            print(\"Please specify input temperature by setting unit='K' or 'C'.\")\n",
    "        return tmpf\n",
    "    \n",
    "tF = convert_temp_to_F(35, 'C')"
   ]
  },
  {
   "cell_type": "markdown",
   "metadata": {},
   "source": [
    "### 3) Check that the outputs are sensible by trying a few examples"
   ]
  },
  {
   "cell_type": "code",
   "execution_count": 28,
   "metadata": {},
   "outputs": [
    {
     "name": "stdout",
     "output_type": "stream",
     "text": [
      "Converting 25C to 77.0F.\n",
      "Converting 12C to 53.6F.\n",
      "Converting -3C to 26.6F.\n"
     ]
    }
   ],
   "source": [
    "tF = convert_temp_to_F(25, 'C')\n",
    "\n",
    "tF = convert_temp_to_F(12, 'C')\n",
    "\n",
    "tF = convert_temp_to_F(-3, 'C')"
   ]
  },
  {
   "cell_type": "markdown",
   "metadata": {},
   "source": [
    "### 4) Now write a function that converts _from_ farenheit and uses a keyword argument to specify whether you want the output in celcius or kelvin"
   ]
  },
  {
   "cell_type": "code",
   "execution_count": 29,
   "metadata": {},
   "outputs": [
    {
     "name": "stdout",
     "output_type": "stream",
     "text": [
      "Converting 40F to 277.59444444444443K.\n",
      "Converting 277.59444444444443F to -6.666666666666666C.\n"
     ]
    }
   ],
   "source": [
    "def convert_temp_to_K(t, unit):\n",
    "    if(unit=='F'):\n",
    "        tmpf = ((t-32)*(5/9))+273.15\n",
    "        print ('Converting '+str(t)+'F to '+str(tmpf) + 'K.')\n",
    "    elif(unit=='C'):\n",
    "        tmpf = ((t-32)/1.8)\n",
    "        print('Converting '+str(tF)+'F to '+str(tmpf)+'C.')\n",
    "    else:\n",
    "        print(\"Please specify input temperature by setting unit='K' or 'C'.\")\n",
    "    return tmpf\n",
    "\n",
    "tF = convert_temp_to_K(40, 'F')\n",
    "tF = convert_temp_to_K(20, 'C')\n"
   ]
  },
  {
   "cell_type": "markdown",
   "metadata": {},
   "source": [
    "### 5) Write a function that takes two arguments (feet and inches) and returns height in meters\n",
    "\n",
    "Verify it gives sensible answers"
   ]
  },
  {
   "cell_type": "code",
   "execution_count": 30,
   "metadata": {},
   "outputs": [
    {
     "name": "stdout",
     "output_type": "stream",
     "text": [
      "Converting 5 feet 3 inches to 1.6006097560975612 meters.\n"
     ]
    }
   ],
   "source": [
    "def calc_height_meters(feet,inch):\n",
    "    height_m = (feet+inch/12)/3.28\n",
    "    \n",
    "    print ('Converting '+str(feet)+' feet '+str(inch)+' inches to '+str(height_m)+' meters.')\n",
    "    \n",
    "    return height_m\n",
    "\n",
    "h_m = calc_height_meters(5, 3)"
   ]
  },
  {
   "cell_type": "markdown",
   "metadata": {},
   "source": [
    "### 6. Write a function takes one argument (height in meters) and returns two arguments (feet and inches)\n",
    "\n",
    "(Consult the [tutorial on numbers](https://docs.python.org/3/tutorial/introduction.html#numbers) if you are stuck on how to implement this.)"
   ]
  },
  {
   "cell_type": "code",
   "execution_count": 31,
   "metadata": {},
   "outputs": [
    {
     "name": "stdout",
     "output_type": "stream",
     "text": [
      "Converting 3.2 meters to 10 feet 6 inches.\n",
      "{'feet': 10, 'inches': 6}\n"
     ]
    }
   ],
   "source": [
    "def calc_height_feet(meters):\n",
    "    height_decimal_feet = (meters)*3.28\n",
    "    height_feet = int(height_decimal_feet)\n",
    "    height_decimal_inches = height_decimal_feet - height_feet\n",
    "    height_inches = round(height_decimal_inches*12)\n",
    "    \n",
    "    print('Converting '+str(meters)+' meters to '+str(height_feet)+' feet '+str(height_inches)+' inches.')\n",
    "    \n",
    "    height = {'feet':height_feet, 'inches':height_inches}\n",
    "    return height\n",
    "\n",
    "h = calc_height_feet(3.2)\n",
    "print(h)"
   ]
  },
  {
   "cell_type": "markdown",
   "metadata": {
    "tags": []
   },
   "source": [
    "### 7) Verify that the \"round trip\" conversion from and back to meters is consistent \n",
    "\n",
    "Check for 3 different values of height in meters"
   ]
  },
  {
   "cell_type": "code",
   "execution_count": 32,
   "metadata": {},
   "outputs": [
    {
     "name": "stdout",
     "output_type": "stream",
     "text": [
      "Converting 5 feet 3 inches to 1.6006097560975612 meters.\n",
      "1.6006097560975612\n",
      "Converting 4 feet 2 inches to 1.2703252032520327 meters.\n",
      "1.2703252032520327\n",
      "Converting 10 feet 6 inches to 3.2012195121951224 meters.\n",
      "3.2012195121951224\n"
     ]
    }
   ],
   "source": [
    "my_height_feet = 5\n",
    "my_height_inches = 3\n",
    "\n",
    "h_m = calc_height_meters(my_height_feet, my_height_inches)\n",
    "print(h_m)\n",
    "\n",
    "height_feet = 4\n",
    "height_inches = 2\n",
    "\n",
    "h_m = calc_height_meters(height_feet, height_inches)\n",
    "print(h_m)\n",
    "\n",
    "height_feet = 10\n",
    "height_inches = 6\n",
    "\n",
    "h_m = calc_height_meters(height_feet, height_inches)\n",
    "print(h_m)"
   ]
  },
  {
   "cell_type": "code",
   "execution_count": null,
   "metadata": {},
   "outputs": [],
   "source": []
  }
 ],
 "metadata": {
  "kernelspec": {
   "display_name": "Python 3",
   "language": "python",
   "name": "python3"
  },
  "language_info": {
   "codemirror_mode": {
    "name": "ipython",
    "version": 3
   },
   "file_extension": ".py",
   "mimetype": "text/x-python",
   "name": "python",
   "nbconvert_exporter": "python",
   "pygments_lexer": "ipython3",
   "version": "3.8.8"
  }
 },
 "nbformat": 4,
 "nbformat_minor": 4
}
